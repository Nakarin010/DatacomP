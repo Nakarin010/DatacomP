{
 "cells": [
  {
   "cell_type": "markdown",
   "id": "74e372ae",
   "metadata": {},
   "source": [
    "## Checksum"
   ]
  },
  {
   "cell_type": "code",
   "execution_count": 194,
   "id": "4fbe4186",
   "metadata": {},
   "outputs": [],
   "source": [
    "# file1_name = \"File1.txt\"\n",
    "# file2_name = \"File2.txt\"\n",
    "\n",
    "\n",
    "# def text_to_binary(text):\n",
    "#     \"\"\"Converts text to binary.\"\"\"\n",
    "#     binary_text = ''\n",
    "#     for char in text:\n",
    "#         binary_char = bin(ord(char))[2:].zfill(8)  # Convert character to binary\n",
    "#         binary_text += binary_char\n",
    "#     return binary_text\n",
    "\n",
    "# def checksum_gen(filename):\n",
    "#     \"\"\"Generates a checksum codeword for a text file.\"\"\"\n",
    "#     checksum = 0\n",
    "#     try:\n",
    "#         with open(filename) as file:\n",
    "#             for line in file:\n",
    "#                 binary_line = text_to_binary(line.strip())  # Convert each line to binary\n",
    "#                 checksum ^= int(binary_line, 2)\n",
    "#     except FileNotFoundError:\n",
    "#         raise FileNotFoundError(f\"File '{filename}' not found.\")\n",
    "#     return bin(checksum)[2:].zfill(8)\n",
    "\n",
    "# def checksum_check(filename, checksum_value):\n",
    "#     \"\"\"Checks the validity of the checksum for a text file.\"\"\"\n",
    "#     try:\n",
    "#         with open(filename) as file:\n",
    "#             calculated_checksum = 0\n",
    "#             for line in file:\n",
    "#                 binary_line = text_to_binary(line.strip())  # Convert each line to binary\n",
    "#                 calculated_checksum ^= int(binary_line, 2)\n",
    "#             calculated_checksum ^= int(checksum_value, 2)\n",
    "#     except FileNotFoundError:\n",
    "#         raise FileNotFoundError(f\"File '{filename}' not found.\")\n",
    "\n",
    "#     return 0 if calculated_checksum == int('1' * 8, 2) else -1\n",
    "\n",
    "# # Example usage\n",
    "\n",
    "\n",
    "# try:\n",
    "#     # Read file 1\n",
    "#     with open(file1_name) as file:\n",
    "#         for line in file:\n",
    "#             print(\"File 1.txt:\", line.strip())\n",
    "\n",
    "#     # Read file 2\n",
    "#     with open(file2_name) as file:\n",
    "#         for line in file:\n",
    "#             print(\"File 2.txt:\", line.strip())\n",
    "\n",
    "\n",
    "#     # Generate checksum for File1.txt\n",
    "#     checksum = checksum_gen(file1_name)\n",
    "#     print(f\"Checksum for '{file1_name}': {checksum}\")\n",
    "#     print(f\"Checksum for '{file2_name}': {checksum}\")\n",
    "\n",
    "#     # Check validity of checksum for File2.txt\n",
    "#     validity = checksum_check(file1_name, checksum)\n",
    "\n",
    "#     if validity == 0:\n",
    "#         print(f\"Checksum for '{file2_name}' is valid (PASS)\")\n",
    "#     else:\n",
    "#         print(f\"Checksum for '{file2_name}' is invalid (FAIL)\")\n",
    "# except FileNotFoundError as e:\n",
    "#     print(e)\n"
   ]
  },
  {
   "cell_type": "code",
   "execution_count": 196,
   "id": "2fed1635",
   "metadata": {},
   "outputs": [
    {
     "name": "stdout",
     "output_type": "stream",
     "text": [
      "File 1.txt: Checksum is an error-detecting technique.\n",
      "File 2.txt: Checksum are an error-detecting technique.\n",
      "Checksums do not match. The files are different.(FAIL)\n"
     ]
    }
   ],
   "source": [
    "def text_to_binary(text):\n",
    "    \"\"\"Converts text to binary.\"\"\"\n",
    "    binary_text = ''\n",
    "    for char in text:\n",
    "        binary_char = bin(ord(char))[2:].zfill(8)  # Convert character to binary\n",
    "        binary_text += binary_char\n",
    "    return binary_text\n",
    "\n",
    "def checksum_gen(filename):\n",
    "    \"\"\"Generates a checksum codeword for a text file.\"\"\"\n",
    "    checksum = 0\n",
    "    try:\n",
    "        with open(filename) as file:\n",
    "            for line in file:\n",
    "                binary_line = text_to_binary(line.strip())  # Convert each line to binary\n",
    "                checksum += int(binary_line, 2)\n",
    "    except FileNotFoundError:\n",
    "        raise FileNotFoundError(f\"File '{filename}' not found.\")\n",
    "    return bin(checksum)[2:].zfill(8)\n",
    "\n",
    "\n",
    "\n",
    "# Compare checksums of two files\n",
    "file1 = \"file1.txt\"\n",
    "file2 = \"file2.txt\"\n",
    "\n",
    "try:\n",
    "    \n",
    "    with open(file1) as file:\n",
    "        for line in file:\n",
    "            print(\"File 1.txt:\", line.strip())\n",
    "\n",
    "    # Read file 2\n",
    "    with open(file2) as file:\n",
    "        for line in file:\n",
    "            print(\"File 2.txt:\", line.strip())\n",
    "\n",
    "    checksum1 = checksum_gen(file1)\n",
    "    checksum2 = checksum_gen(file2)\n",
    "    \n",
    "    if checksum1 == checksum2:\n",
    "        print(\"Checksums match. The files are identical.(PASS)\")\n",
    "    else:\n",
    "        print(\"Checksums do not match. The files are different.(FAIL)\")\n",
    "except FileNotFoundError as e:\n",
    "    print(e)\n"
   ]
  },
  {
   "cell_type": "markdown",
   "id": "adf79e82",
   "metadata": {},
   "source": [
    "## Hamming code"
   ]
  },
  {
   "cell_type": "code",
   "execution_count": 144,
   "id": "86fc1be6",
   "metadata": {},
   "outputs": [
    {
     "name": "stdout",
     "output_type": "stream",
     "text": [
      "Input alphabet: a\n",
      "Generated codeword: 11000001100001\n",
      "Error at position: 9\n"
     ]
    }
   ],
   "source": [
    "def hamming_gen(input_alphabet):\n",
    "    # Convert input alphabet to binary (ASCII representation)\n",
    "    binary_data = format(ord(input_alphabet), '011b')\n",
    "\n",
    "    # Calculate redundancy bits (parity bits)\n",
    "    r1 = (int(binary_data[0]) + int(binary_data[1]) + int(binary_data[3]) + int(binary_data[4]) + int(binary_data[6])) % 2\n",
    "    r2 = (int(binary_data[0]) + int(binary_data[2]) + int(binary_data[3]) + int(binary_data[5]) + int(binary_data[6])) % 2\n",
    "    r4 = (int(binary_data[1]) + int(binary_data[2]) + int(binary_data[3]) + int(binary_data[7])) % 2\n",
    "    # r8 = (int(binary_data[4]) + int(binary_data[5]) + int(binary_data[6]) + int(binary_data[7])) % 2\n",
    "\n",
    "    # Construct the codeword by inserting redundancy bits\n",
    "    codeword = ''.join([\n",
    "                        str(r1),           # 1 \n",
    "                        str(r2),           # 1\n",
    "                        binary_data[0],    # 0\n",
    "                        str(r4),           # 0\n",
    "                        binary_data[1:4],  # 0000\n",
    "                        # str(r8),\n",
    "                        binary_data[4:]    # 1100001\n",
    "                        ])\n",
    "\n",
    "    return codeword\n",
    "\n",
    "\n",
    "def hamming_check(codeword):\n",
    "    # Convert the codeword to a list of bits\n",
    "    bits = list(map(int, codeword))\n",
    "\n",
    "    # Calculate parity bits\n",
    "    p1 = (bits[2] + bits[4] + bits[6] + bits[8] + bits[10]) % 2\n",
    "    p2 = (bits[2] + bits[5] + bits[6] + bits[9] + bits[10]) % 2\n",
    "    p4 = (bits[4] + bits[5] + bits[6] + bits[11]) % 2\n",
    "    p8 = (bits[8] + bits[9] + bits[10] + bits[11]) % 2\n",
    "\n",
    "    # Calculate error position\n",
    "    error_pos = p1 + p2 * 2 + p4 * 4 + p8 * 8\n",
    "\n",
    "    return error_pos\n",
    "\n",
    "# Test the functions\n",
    "input_alphabet = 'a'\n",
    "codeword = hamming_gen(input_alphabet)\n",
    "\n",
    "print(\"Input alphabet:\", input_alphabet)\n",
    "print(\"Generated codeword:\", codeword)\n",
    "\n",
    "error_pos = hamming_check(codeword)\n",
    "if error_pos == 0:\n",
    "    print(\"No error found\")\n",
    "else:\n",
    "    print(\"Error at position:\", error_pos)\n"
   ]
  },
  {
   "cell_type": "code",
   "execution_count": null,
   "id": "f5e97e8c",
   "metadata": {},
   "outputs": [],
   "source": []
  },
  {
   "cell_type": "code",
   "execution_count": 146,
   "id": "24675f38",
   "metadata": {},
   "outputs": [
    {
     "name": "stdout",
     "output_type": "stream",
     "text": [
      "input_alphabet: a\n",
      "Generated codeword: 110000001100001\n"
     ]
    }
   ],
   "source": [
    "def hamming_gen(input_alphabet):\n",
    "    # Convert input alphabet to binary (ASCII representation)\n",
    "    binary_data = format(ord(input_alphabet), '011b')\n",
    "\n",
    "    # Calculate redundancy bits (parity bits)\n",
    "    r1 = (int(binary_data[0]) + int(binary_data[1]) + int(binary_data[3]) + int(binary_data[4]) + int(binary_data[6])) % 2\n",
    "    r2 = (int(binary_data[0]) + int(binary_data[2]) + int(binary_data[3]) + int(binary_data[5]) + int(binary_data[6])) % 2\n",
    "    r4 = (int(binary_data[1]) + int(binary_data[2]) + int(binary_data[3]) + int(binary_data[7])) % 2\n",
    "    r8 = (int(binary_data[4]) + int(binary_data[5]) + int(binary_data[6]) + int(binary_data[7])) % 2\n",
    "\n",
    "    # Construct the codeword by inserting redundancy bits\n",
    "    codeword = ''.join([str(r1), str(r2), binary_data[0], str(r4), binary_data[1:4], str(r8), binary_data[4:]])\n",
    "\n",
    "    # codeword = codeword = codeword[:-4]\n",
    "    # codeword = codeword[:7] + codeword[8:]\n",
    "    \n",
    "    return  codeword\n",
    "\n",
    "# Test the function\n",
    "input_alphabet = 'a'\n",
    "codeword = hamming_gen(input_alphabet)\n",
    "print(\"input_alphabet:\",input_alphabet)\n",
    "print(\"Generated codeword:\", codeword)\n"
   ]
  },
  {
   "cell_type": "markdown",
   "id": "dab6e5c1",
   "metadata": {},
   "source": [
    "\n"
   ]
  },
  {
   "cell_type": "code",
   "execution_count": 2,
   "id": "3cb3f89a",
   "metadata": {},
   "outputs": [
    {
     "name": "stdout",
     "output_type": "stream",
     "text": [
      "Codeword for a : 100001010000010\n"
     ]
    }
   ],
   "source": [
    "# def parity(data):\n",
    "#   \"\"\"Calculates the parity bit for a given binary string.\"\"\"\n",
    "#   count = 0\n",
    "#   for bit in data:\n",
    "#     count += int(bit)\n",
    "#   return '1' if count % 2 == 0 else '0'  # Even count means 0 for even parity\n",
    "\n",
    "# def hamming_gen(dataword):\n",
    "#   \"\"\"Generates an 11-bit Hamming codeword from an alphabet letter.\"\"\"\n",
    "#   # Convert dataword to ASCII binary string\n",
    "#   data_bits = bin(ord(dataword.lower()))[2:].zfill(8)\n",
    "\n",
    "#   # Remove the most significant bit for a total of 7 data bits\n",
    "#   data_bits = data_bits[1:]\n",
    "\n",
    "#   # Calculate parity bits\n",
    "#   p1 = parity(data_bits[0:3] + data_bits[4:7])\n",
    "#   p2 = parity(data_bits[0:2] + data_bits[5:7])\n",
    "#   p3 = parity(data_bits[0:4] + data_bits[6])\n",
    "\n",
    "#   # Generate codeword with parity bits inserted\n",
    "#   codeword = data_bits[2:7] + p1 + data_bits[1:6] + p2 + data_bits[0] + p3\n",
    "#   return '1' + codeword  # Prepend a 0 for the removed most significant bit\n",
    "\n",
    "# # Example usage\n",
    "# dataword = input(\"Enter an alphabet character (a-z): \")\n",
    "# codeword = hamming_gen(dataword)\n",
    "# print(\"Codeword for\", dataword, \":\", codeword)\n"
   ]
  }
 ],
 "metadata": {
  "kernelspec": {
   "display_name": "Python 3 (ipykernel)",
   "language": "python",
   "name": "python3"
  },
  "language_info": {
   "codemirror_mode": {
    "name": "ipython",
    "version": 3
   },
   "file_extension": ".py",
   "mimetype": "text/x-python",
   "name": "python",
   "nbconvert_exporter": "python",
   "pygments_lexer": "ipython3",
   "version": "3.9.13"
  }
 },
 "nbformat": 4,
 "nbformat_minor": 5
}
